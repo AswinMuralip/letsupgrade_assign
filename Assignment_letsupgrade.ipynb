{
  "nbformat": 4,
  "nbformat_minor": 0,
  "metadata": {
    "colab": {
      "provenance": []
    },
    "kernelspec": {
      "name": "python3",
      "display_name": "Python 3"
    },
    "language_info": {
      "name": "python"
    }
  },
  "cells": [
    {
      "cell_type": "code",
      "execution_count": null,
      "metadata": {
        "id": "B4NzfKYo_VWb"
      },
      "outputs": [],
      "source": [
        "import random\n",
        "\n",
        "messages = [\"Today will be a lucky day\", \"You will meet someone new and interesting\", \"Watch out for obstacles in your path\"]\n",
        "\n",
        "print(random.choice(messages))"
      ]
    }
  ]
}